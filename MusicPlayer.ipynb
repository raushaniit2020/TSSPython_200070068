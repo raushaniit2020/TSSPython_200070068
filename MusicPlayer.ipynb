{
  "nbformat": 4,
  "nbformat_minor": 0,
  "metadata": {
    "colab": {
      "name": "MusicPlayer.ipynb",
      "provenance": [],
      "collapsed_sections": [],
      "authorship_tag": "ABX9TyNNx5dEoVdQ3DDrdlHpI/1p",
      "include_colab_link": true
    },
    "kernelspec": {
      "name": "python3",
      "display_name": "Python 3"
    },
    "language_info": {
      "name": "python"
    }
  },
  "cells": [
    {
      "cell_type": "markdown",
      "metadata": {
        "id": "view-in-github",
        "colab_type": "text"
      },
      "source": [
        "<a href=\"https://colab.research.google.com/github/raushaniit2020/TSSPython_200070068/blob/main/MusicPlayer.ipynb\" target=\"_parent\"><img src=\"https://colab.research.google.com/assets/colab-badge.svg\" alt=\"Open In Colab\"/></a>"
      ]
    },
    {
      "cell_type": "code",
      "metadata": {
        "id": "A7NZ9w5zswf7"
      },
      "source": [
        "# I have used tkinter in addition to pygame because every documentation I looked for contains tkinter \n",
        "from tkinter import *\n",
        "import pygame\n",
        "import mixer as mx\n",
        "import os\n",
        "\n",
        "\n",
        "def play_song():\n",
        "    current_song = playlist.get(ACTIVE)\n",
        "    print(current_song)\n",
        "    mx.music.load(current_song)\n",
        "    mx.music.play()\n",
        "def pause_song():\n",
        "    mx.music.pause()\n",
        "def stop_song():\n",
        "    mx.music.stop()\n",
        "def resume_song():\n",
        "    mx.music.unpause()\n",
        "\n",
        "\n",
        "for s in song:\n",
        "    play_list.insert(END,s)\n",
        "\n",
        "root = Tk()\n",
        "root.title(\"Music Player\")\n",
        "Button(root ,text = \"PLAY\", command = play_song).grid(row =1 , column = 0)\n",
        "Button(root,text = \"PAUSE\" , command = pause_song).grid(row =1 , column = 1)\n",
        "Button(root,text = \"STOP\", command = stop_song).grid(row =1 , column = 2)\n",
        "Button(root,text = \"RESUME\", command = resume_song).grid(row =1 , column = 3)\n",
        "mainloop()\n",
        "mx.init()\n",
        "play_list = Listbox(root,selectmode = SINGLE , bg = \"white\")\n",
        "play_list.grid(columnspan = None)\n",
        "os.chdir(C:\\Users\\hp\\Downloads\\Dil Bechara (2020) Mp3 Songs-190K)   # Here we have to give the path to the playlist \n",
        "song = os.listdir()"
      ],
      "execution_count": null,
      "outputs": []
    }
  ]
}