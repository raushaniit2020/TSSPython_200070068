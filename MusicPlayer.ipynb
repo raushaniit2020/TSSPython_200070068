{
  "nbformat": 4,
  "nbformat_minor": 0,
  "metadata": {
    "colab": {
      "name": "MusicPlayer.ipynb",
      "provenance": [],
      "authorship_tag": "ABX9TyMH+Atbk9UZVlXIMKKXHCSH",
      "include_colab_link": true
    },
    "kernelspec": {
      "name": "python3",
      "display_name": "Python 3"
    },
    "language_info": {
      "name": "python"
    }
  },
  "cells": [
    {
      "cell_type": "markdown",
      "metadata": {
        "id": "view-in-github",
        "colab_type": "text"
      },
      "source": [
        "<a href=\"https://colab.research.google.com/github/raushaniit2020/TSSPython_200070068/blob/main/MusicPlayer.ipynb\" target=\"_parent\"><img src=\"https://colab.research.google.com/assets/colab-badge.svg\" alt=\"Open In Colab\"/></a>"
      ]
    },
    {
      "cell_type": "code",
      "metadata": {
        "id": "yTS_hXV8hK_7"
      },
      "source": [
        "from tkinter import *\n",
        "from pygame import mixer\n",
        "import os\n",
        "\n",
        "\n",
        "def playsong():\n",
        "    currentsong = playlist.get(ACTIVE)\n",
        "    print(currentsong)\n",
        "    mixer.music.load(currentsong)\n",
        "    mixer.music.play()\n",
        "def pausesong():\n",
        "    mixer.music.pause()\n",
        "def stopsong():\n",
        "    mixer.music.stop()\n",
        "def resumesong():\n",
        "    mixer.music.unpause()\n",
        "\n",
        "\n",
        "for s in song:\n",
        "    playlist.insert(END,s)\n",
        "\n",
        "root = Tk()\n",
        "root.title(\"Music Player\")\n",
        "Button(root ,text = \"play\", command = playsong).grid(row =1 , column = 0)\n",
        "Button(root,text = \"pause\" , command = pausesong).grid(row =1 , column = 1)\n",
        "Button(root,text = \"pause\", command = stopsong).grid(row =1 , column = 2)\n",
        "Button(root,text = \"resume\", command = resumesong).grid(row =1 , column = 3)\n",
        "mainloop()\n",
        "mixer.init()\n",
        "playlist = Listbox(root,selectmode = SINGLE , bg = \"white\")\n",
        "playlist.grid(columnspan = 5)\n",
        "os.chdir()   # Here we have to give the path to the playlist\n",
        "song = os.listdir()"
      ],
      "execution_count": null,
      "outputs": []
    }
  ]
}