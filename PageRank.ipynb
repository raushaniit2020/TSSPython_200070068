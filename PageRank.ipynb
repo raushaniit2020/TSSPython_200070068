{
  "nbformat": 4,
  "nbformat_minor": 0,
  "metadata": {
    "colab": {
      "name": "PageRank.ipynb",
      "provenance": [],
      "authorship_tag": "ABX9TyN08pvYIwNjS5LrAACLBCVv",
      "include_colab_link": true
    },
    "kernelspec": {
      "name": "python3",
      "display_name": "Python 3"
    },
    "language_info": {
      "name": "python"
    }
  },
  "cells": [
    {
      "cell_type": "markdown",
      "metadata": {
        "id": "view-in-github",
        "colab_type": "text"
      },
      "source": [
        "<a href=\"https://colab.research.google.com/github/raushaniit2020/TSSPython_200070068/blob/main/PageRank.ipynb\" target=\"_parent\"><img src=\"https://colab.research.google.com/assets/colab-badge.svg\" alt=\"Open In Colab\"/></a>"
      ]
    },
    {
      "cell_type": "code",
      "metadata": {
        "id": "InWEkgBnzfuB"
      },
      "source": [
        "import os\n",
        "import random\n",
        "import re\n",
        "import sys\n",
        "import numpy as np\n",
        "import pandas as pd\n",
        "import math\n",
        "\n",
        "DAMPING = 0.85\n",
        "SAMPLES = 10000"
      ],
      "execution_count": null,
      "outputs": []
    },
    {
      "cell_type": "code",
      "metadata": {
        "id": "wJZMmJbQzoIi"
      },
      "source": [
        "def main(dir):\n",
        "    corpus = crawl(dir)\n",
        "    ranks = sample_pagerank(corpus, DAMPING, SAMPLES)\n",
        "    print(f\"PageRank Results from Sampling (n = {SAMPLES})\")\n",
        "    for page in sorted(ranks):\n",
        "        print(f\"  {page}: {ranks[page]:.4f}\")\n",
        "    ranks = iterate_pagerank(corpus, DAMPING)\n",
        "    print(f\"PageRank Results from Iteration\")\n",
        "    for page in sorted(ranks):\n",
        "        print(f\"  {page}: {ranks[page]:.4f}\")"
      ],
      "execution_count": null,
      "outputs": []
    },
    {
      "cell_type": "code",
      "metadata": {
        "id": "uJ8GrvF2zrK_"
      },
      "source": [
        "def crawl(directory):\n",
        "    \"\"\"\n",
        "    Parse a directory of HTML pages and check for links to other pages.\n",
        "    Return a dictionary where each key is a page, and values are\n",
        "    a list of all other pages in the corpus that are linked to by the page.\n",
        "    \"\"\"\n",
        "    pages = dict()\n",
        "\n",
        "    # Extract all links from HTML files\n",
        "    for filename in os.listdir(directory):\n",
        "        if not filename.endswith(\".html\"):\n",
        "            continue\n",
        "        with open(os.path.join(directory, filename)) as f:\n",
        "            contents = f.read()\n",
        "            links = re.findall(r\"<a\\s+(?:[^>]*?)href=\\\"([^\\\"]*)\\\"\", contents)\n",
        "            pages[filename] = set(links) - {filename}\n",
        "\n",
        "    # Only include links to other pages in the corpus\n",
        "    for filename in pages:\n",
        "        pages[filename] = set(\n",
        "            link for link in pages[filename]\n",
        "            if link in pages\n",
        "        )\n",
        "\n",
        "    return pages"
      ],
      "execution_count": null,
      "outputs": []
    },
    {
      "cell_type": "code",
      "metadata": {
        "id": "2DKoRPW7zviH"
      },
      "source": [
        "def transition_model(corpus, page, damping_factor):\n",
        "    \"\"\"\n",
        "    Return a probability distribution over which page to visit next,\n",
        "    given a current page.\n",
        "\n",
        "    With probability `damping_factor`, choose a link at random\n",
        "    linked to by `page`. With probability `1 - damping_factor`, choose\n",
        "    a link at random chosen from all pages in the corpus.\n",
        "    \"\"\"\n",
        "    prob_dist = dict()\n",
        "    damping_factor = df\n",
        "\n",
        "    if corpus[page]:\n",
        "        for link in corpus:\n",
        "            prob_dist[link] = (1-df) / len(corpus)\n",
        "            if link in corpus[page]:\n",
        "                prob_dist[link] += df / len(corpus[page])\n",
        "    else:\n",
        "        # If page has no outgoing links then choose randomly among all pages\n",
        "        for link in corpus:\n",
        "            prob_dist[link] = 1 / len(corpus)\n",
        "\n",
        "    return prob_dist"
      ],
      "execution_count": null,
      "outputs": []
    },
    {
      "cell_type": "code",
      "metadata": {
        "id": "UrmEvfQ6zzzY"
      },
      "source": [
        ""
      ],
      "execution_count": null,
      "outputs": []
    },
    {
      "cell_type": "code",
      "metadata": {
        "id": "mcXP1ewFz4Dv"
      },
      "source": [
        "def iterate_pagerank(corpus, df ,n):\n",
        "    \"\"\"\n",
        "    Return PageRank values for each page by iteratively updating\n",
        "    PageRank values until convergence.\n",
        "\n",
        "    Return a dictionary where keys are page names, and values are\n",
        "    their estimated PageRank value (a value between 0 and 1). All\n",
        "    PageRank values should sum to 1.\n",
        "    \"\"\"\n",
        "    pagerank = dict()\n",
        "    newrank = dict()\n",
        "\n",
        "    # Assign initial values for pagerank\n",
        "    for page in corpus:\n",
        "        pagerank[page] = 1 / len(corpus)\n",
        "\n",
        "    repeat = True\n",
        "\n",
        "    while repeat:\n",
        "        # Calculate new rank values based on all of the current rank values\n",
        "        for page in pagerank:\n",
        "            total = float(0)\n",
        "\n",
        "            for possible_page in corpus:\n",
        "                # We consider each possible page that links to current page\n",
        "                if page in corpus[possible_page]:\n",
        "                    total += pagerank[possible_page] / len(corpus[possible_page])\n",
        "                # A page that has no links is interpreted as having one link for every page (including itself)\n",
        "                if not corpus[possible_page]:\n",
        "                    total += pagerank[possible_page] / len(corpus)\n",
        "\n",
        "            newrank[page] = (1 - df) / len(corpus) + df * total\n",
        "\n",
        "        repeat = False\n",
        "\n",
        "        # If any of the values changes by more than the threshold, repeat process\n",
        "        for page in pagerank:\n",
        "            if not math.isclose(newrank[page], pagerank[page], abs_tol=0.001):\n",
        "                repeat = True\n",
        "            # Assign new values to current values\n",
        "            pagerank[page] = newrank[page]\n",
        "\n",
        "    return pagerank"
      ],
      "execution_count": null,
      "outputs": []
    },
    {
      "cell_type": "code",
      "metadata": {
        "id": "iyX38h8hz8GQ"
      },
      "source": [
        "main('corpus0')    # Either corpus1, corpus2 or corpus3"
      ],
      "execution_count": null,
      "outputs": []
    }
  ]
}